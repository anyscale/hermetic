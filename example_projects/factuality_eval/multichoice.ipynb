{
 "cells": [
  {
   "cell_type": "code",
   "execution_count": 1,
   "id": "d2769b20-2e0d-40b6-82c9-fcdfbafc2516",
   "metadata": {
    "tags": []
   },
   "outputs": [],
   "source": [
    "from multichoice import Multichoice\n",
    "from hermetic.core.environment import load_environments"
   ]
  },
  {
   "cell_type": "code",
   "execution_count": 2,
   "id": "32d15972-e4f0-4e7c-8f43-27d601479c24",
   "metadata": {
    "tags": []
   },
   "outputs": [],
   "source": [
    "env = load_environments()['answer_first'] "
   ]
  },
  {
   "cell_type": "code",
   "execution_count": 3,
   "id": "d8816843-6d70-49ab-bd63-37e49d0bcd0b",
   "metadata": {
    "tags": []
   },
   "outputs": [
    {
     "data": {
      "text/plain": [
       "<hermetic.core.environment.Environment at 0x7f4a5c6bb0a0>"
      ]
     },
     "execution_count": 3,
     "metadata": {},
     "output_type": "execute_result"
    }
   ],
   "source": [
    "env"
   ]
  },
  {
   "cell_type": "code",
   "execution_count": 4,
   "id": "64b705bb-1425-48c1-83eb-6537c823ddd8",
   "metadata": {
    "tags": []
   },
   "outputs": [],
   "source": [
    "agent = Multichoice(env)"
   ]
  },
  {
   "cell_type": "code",
   "execution_count": 5,
   "id": "8547d21f-31e0-448a-857f-47e5a92e5909",
   "metadata": {
    "tags": []
   },
   "outputs": [
    {
     "data": {
      "text/plain": [
       "'B'"
      ]
     },
     "execution_count": 5,
     "metadata": {},
     "output_type": "execute_result"
    }
   ],
   "source": [
    "agent.process_all(\"\"\"\n",
    "The correct answer is B: five ambitious clubs are locked in a scramble for two champions league places.\n",
    "\n",
    "The article sentence uses the phrase \"scramble for two champions league places\", which suggests a sense of urgency and competition among the five clubs. \n",
    "\n",
    "Summary B accurately captures this sense of urgency and competition by using the same phrase, \"scramble for two champions league places\".\n",
    "\n",
    "On the other hand, Summary A uses the phrase \"bid for two champions league places\", which doesn't \n",
    "\n",
    "quite convey the same sense of urgency and competition as the article sentence. The word \"bid\" suggests a more formal and organized process, \n",
    "\n",
    "whereas \"scramble\" implies a more intense and chaotic situation. Therefore, Summary B is more consistent with the article sentence. \n",
    "\n",
    "\"\"\")"
   ]
  },
  {
   "cell_type": "raw",
   "id": "1090c460-1a5f-4c15-b84b-76605e8c161d",
   "metadata": {},
   "source": []
  },
  {
   "cell_type": "code",
   "execution_count": null,
   "id": "6bc909a9-e940-4912-bd2b-342a4c91ed19",
   "metadata": {},
   "outputs": [],
   "source": []
  }
 ],
 "metadata": {
  "kernelspec": {
   "display_name": "Python 3 (ipykernel)",
   "language": "python",
   "name": "python3"
  },
  "language_info": {
   "codemirror_mode": {
    "name": "ipython",
    "version": 3
   },
   "file_extension": ".py",
   "mimetype": "text/x-python",
   "name": "python",
   "nbconvert_exporter": "python",
   "pygments_lexer": "ipython3",
   "version": "3.9.15"
  }
 },
 "nbformat": 4,
 "nbformat_minor": 5
}
